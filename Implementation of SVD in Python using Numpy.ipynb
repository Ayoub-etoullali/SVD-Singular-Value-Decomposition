{
 "cells": [
  {
   "cell_type": "code",
   "execution_count": 38,
   "id": "fd983147",
   "metadata": {},
   "outputs": [],
   "source": [
    "import numpy as np"
   ]
  },
  {
   "cell_type": "code",
   "execution_count": null,
   "id": "4acbcadc",
   "metadata": {},
   "outputs": [],
   "source": [
    "#Creating a matrix A\n",
    "A = np.array([[4,2,0],[1,5,6]])"
   ]
  },
  {
   "cell_type": "code",
   "execution_count": null,
   "id": "7fab2a65",
   "metadata": {},
   "outputs": [],
   "source": [
    "#Performing SVD\n",
    "U, Sigma, Vt = np.linalg.svd(A)"
   ]
  },
  {
   "cell_type": "markdown",
   "id": "f5e0ce93",
   "metadata": {},
   "source": [
    "The np.linalg.svd function calculates the SVD of the matrix A. The function returns three outputs: U, Sigma, and Vt.\n",
    "\n",
    "U is a unitary matrix (orthogonal in the real case) representing the left singular vectors of A. It has shape (m, m) if A is an m x n matrix.\n",
    "Sigma is a 1-dimensional array containing the singular values of A. The singular values are sorted in descending order.\n",
    "Vt is a unitary matrix (orthogonal in the real case) representing the right singular vectors of A. It has shape (n, n) if A is an m x n matrix.\n",
    "By assigning the outputs of np.linalg.svd(A) to U, Sigma, and Vt, you obtain the calculated singular vectors and singular values of A."
   ]
  },
  {
   "cell_type": "code",
   "execution_count": 39,
   "id": "e6f48c1a",
   "metadata": {},
   "outputs": [
    {
     "name": "stdout",
     "output_type": "stream",
     "text": [
      "-------------------U-------------------\n",
      "[[ 0.28978415 -0.95709203]\n",
      " [ 0.95709203  0.28978415]]\n",
      "\n",
      "--------------Sigma----------------\n",
      "[8.13872588 3.97003036]\n",
      "\n",
      "-------------V transpose---------------\n",
      "[[ 0.26001965  0.65919758  0.70558368]\n",
      " [-0.89132415 -0.11719389  0.43795758]\n",
      " [ 0.37139068 -0.74278135  0.55708601]]\n"
     ]
    }
   ],
   "source": [
    "print(\"-------------------U-------------------\")\n",
    "print(U)\n",
    "print(\"\\n--------------Sigma----------------\")\n",
    "print(Sigma)\n",
    "print(\"\\n-------------V transpose---------------\")\n",
    "print(Vt)"
   ]
  },
  {
   "cell_type": "code",
   "execution_count": 40,
   "id": "5da267c4",
   "metadata": {},
   "outputs": [
    {
     "name": "stdout",
     "output_type": "stream",
     "text": [
      "[[4 2 0]\n",
      " [1 5 6]] \n",
      "\n",
      "[[ 4.00000000e+00  2.00000000e+00 -2.22044605e-16]\n",
      " [ 1.00000000e+00  5.00000000e+00  6.00000000e+00]]\n"
     ]
    }
   ],
   "source": [
    "#Checking if we can remake the original matrix using U, Sigma, Vt\n",
    "\n",
    "newSigma = np.zeros((2, 3))\n",
    "newSigma[:2, :2] = np.diag(Sigma[:2])\n",
    "\n",
    "print(A,\"\\n\")\n",
    "\n",
    "A_remake = (U @ newSigma @ Vt)\n",
    "print(A_remake)"
   ]
  },
  {
   "cell_type": "code",
   "execution_count": null,
   "id": "29be4be7",
   "metadata": {},
   "outputs": [],
   "source": []
  }
 ],
 "metadata": {
  "kernelspec": {
   "display_name": "Python 3 (ipykernel)",
   "language": "python",
   "name": "python3"
  },
  "language_info": {
   "codemirror_mode": {
    "name": "ipython",
    "version": 3
   },
   "file_extension": ".py",
   "mimetype": "text/x-python",
   "name": "python",
   "nbconvert_exporter": "python",
   "pygments_lexer": "ipython3",
   "version": "3.9.13"
  },
  "toc": {
   "base_numbering": 1,
   "nav_menu": {},
   "number_sections": true,
   "sideBar": true,
   "skip_h1_title": false,
   "title_cell": "Table of Contents",
   "title_sidebar": "Contents",
   "toc_cell": false,
   "toc_position": {},
   "toc_section_display": true,
   "toc_window_display": false
  }
 },
 "nbformat": 4,
 "nbformat_minor": 5
}
